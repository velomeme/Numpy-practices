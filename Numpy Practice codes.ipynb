{
 "cells": [
  {
   "cell_type": "code",
   "execution_count": 24,
   "id": "d400b144",
   "metadata": {},
   "outputs": [
    {
     "name": "stdout",
     "output_type": "stream",
     "text": [
      "NumPy Array: \n",
      "[[1 2 3]\n",
      " [4 5 6]]\n",
      "[[1, 2, 3], [4, 5, 6]]\n"
     ]
    }
   ],
   "source": [
    "# Question 1\n",
    "# Write a Python program to convert an array to an ordinary list with the same items.\n",
    "\n",
    "# Converting multi-dimensional NumPy Array to List\n",
    "\n",
    "import numpy as np\n",
    "arr = np.array([[1, 2, 3], [4, 5, 6]])\n",
    "print(\"NumPy Array: \")\n",
    "print(arr)\n",
    "\n",
    "list1 = arr.tolist()\n",
    "print(list1)"
   ]
  },
  {
   "cell_type": "code",
   "execution_count": 2,
   "id": "46f9f4e0",
   "metadata": {},
   "outputs": [
    {
     "name": "stdout",
     "output_type": "stream",
     "text": [
      "Original matrix:\n",
      "[[1 2 3]\n",
      " [4 5 6]\n",
      " [7 8 9]]\n",
      "The sum of the diagonals is:\n",
      "15\n"
     ]
    }
   ],
   "source": [
    "# Question 2 \n",
    "# Write a NumPy program to compute the sum of the diagonal elements of a given array.\n",
    "\n",
    "import numpy as np\n",
    "arr = np.array([[1, 2, 3], [4, 5, 6], [7, 8, 9]])\n",
    "print(\"Original matrix:\")\n",
    "print(arr)\n",
    "result = np.trace(arr)\n",
    "print(\"The sum of the diagonals is:\")\n",
    "print(result)"
   ]
  },
  {
   "cell_type": "code",
   "execution_count": 14,
   "id": "f5723370",
   "metadata": {},
   "outputs": [
    {
     "name": "stdout",
     "output_type": "stream",
     "text": [
      "Original matrix: \n",
      "[[1 2]\n",
      " [3 5]]\n",
      "Values bigger than 2 = [3 5]\n"
     ]
    }
   ],
   "source": [
    "# Question 3\n",
    "# Given an array of your choice, get all the values higher than x\n",
    "# if a = [[1,2],[3,5]] and x = 2 :  then 3 and 5 are higher than 2.\n",
    "\n",
    "import numpy as np\n",
    "a = np.array([[1, 2], [3, 5]])\n",
    "print(\"Original matrix: \")\n",
    "print(a)\n",
    "print(\"Values bigger than 2 =\", a[a>2])"
   ]
  },
  {
   "cell_type": "code",
   "execution_count": 15,
   "id": "6a32aea8",
   "metadata": {},
   "outputs": [
    {
     "name": "stdout",
     "output_type": "stream",
     "text": [
      "First array:\n",
      "[[0 1 2]\n",
      " [3 4 5]\n",
      " [6 7 8]]\n",
      "\n",
      "\n",
      "Second array:\n",
      "[[ 2  3  4]\n",
      " [ 5  6  7]\n",
      " [ 8  9 10]]\n",
      "\n",
      "\n",
      "Add the two arrays:\n",
      "[[ 2  4  6]\n",
      " [ 8 10 12]\n",
      " [14 16 18]]\n"
     ]
    }
   ],
   "source": [
    "#Question 4 \n",
    "#Given two arrays, A & B have the same shape. \n",
    "#The task is to apply addition by hand: C is the new array.\n",
    "\n",
    "import numpy as np\n",
    "a = np.arange(9, dtype = int).reshape(3,3)\n",
    "\n",
    "print('First array:' )\n",
    "print(a)\n",
    "print('\\n')\n",
    "\n",
    "print('Second array:' ) \n",
    "b = np.arange(2, 11, 1).reshape(3,3)\n",
    "print(b)\n",
    "print('\\n')\n",
    "\n",
    "print('Add the two arrays:')\n",
    "c = np.add(a,b) \n",
    "print(c)"
   ]
  },
  {
   "cell_type": "code",
   "execution_count": 23,
   "id": "bdfce550",
   "metadata": {},
   "outputs": [
    {
     "name": "stdout",
     "output_type": "stream",
     "text": [
      "Original matrix:\n",
      "[[1 2 3]\n",
      " [4 5 6]\n",
      " [7 8 9]]\n",
      "\n",
      "Subtracting the mean of each row of the said matrix:\n",
      "\n",
      "[[-1.  0.  1.]\n",
      " [-1.  0.  1.]\n",
      " [-1.  0.  1.]]\n"
     ]
    }
   ],
   "source": [
    "# Question 5\n",
    "# Write a NumPy program to subtract the mean of each row of a given matrix.\n",
    "\n",
    "import numpy as np\n",
    "print(\"Original matrix:\")\n",
    "X = np.array([[1, 2, 3], [4, 5, 6], [7, 8, 9]])\n",
    "print(X)\n",
    "\n",
    "print(\"\\nSubtracting the mean of each row of the said matrix:\\n\")\n",
    "Y = X - X.mean(axis=1, keepdims=True)\n",
    "print(Y)"
   ]
  },
  {
   "cell_type": "code",
   "execution_count": null,
   "id": "f3387e21",
   "metadata": {},
   "outputs": [],
   "source": []
  }
 ],
 "metadata": {
  "kernelspec": {
   "display_name": "Python 3 (ipykernel)",
   "language": "python",
   "name": "python3"
  },
  "language_info": {
   "codemirror_mode": {
    "name": "ipython",
    "version": 3
   },
   "file_extension": ".py",
   "mimetype": "text/x-python",
   "name": "python",
   "nbconvert_exporter": "python",
   "pygments_lexer": "ipython3",
   "version": "3.9.7"
  }
 },
 "nbformat": 4,
 "nbformat_minor": 5
}
